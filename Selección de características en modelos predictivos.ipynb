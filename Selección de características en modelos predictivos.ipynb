{
 "cells": [
  {
   "cell_type": "markdown",
   "metadata": {},
   "source": [
    "# Selección de características en modelos predictivos"
   ]
  },
  {
   "cell_type": "markdown",
   "metadata": {},
   "source": [
    "Este proyecto es para IA de Moisés Calzado Cobo y Antonio Germán Márquez Trujillo"
   ]
  },
  {
   "cell_type": "markdown",
   "metadata": {},
   "source": [
    "Estos archivos contienen los algoritmos implementados, pero no los importamos ya que en esta libreta los implementamos explicando su funcionamiento\n"
   ]
  },
  {
   "cell_type": "code",
   "execution_count": 1,
   "metadata": {},
   "outputs": [],
   "source": [
    "## %run SFS.py\n",
    "## %run SFFS.py"
   ]
  },
  {
   "cell_type": "code",
   "execution_count": 1,
   "metadata": {},
   "outputs": [],
   "source": [
    "import pandas as pandas;\n",
    "import time;\n",
    "from sklearn.model_selection import cross_val_score;\n",
    "from sklearn import tree;\n",
    "from sklearn import preprocessing;\n",
    "import numpy as np;\n",
    "import matplotlib.pyplot as plt\n",
    "pandas.set_option('max_colwidth', 800)"
   ]
  },
  {
   "cell_type": "code",
   "execution_count": 43,
   "metadata": {},
   "outputs": [
    {
     "data": {
      "text/html": [
       "<div>\n",
       "<style scoped>\n",
       "    .dataframe tbody tr th:only-of-type {\n",
       "        vertical-align: middle;\n",
       "    }\n",
       "\n",
       "    .dataframe tbody tr th {\n",
       "        vertical-align: top;\n",
       "    }\n",
       "\n",
       "    .dataframe thead th {\n",
       "        text-align: right;\n",
       "    }\n",
       "</style>\n",
       "<table border=\"1\" class=\"dataframe\">\n",
       "  <thead>\n",
       "    <tr style=\"text-align: right;\">\n",
       "      <th></th>\n",
       "      <th>Pregnancies</th>\n",
       "      <th>Glucose</th>\n",
       "      <th>BloodPressure</th>\n",
       "      <th>SkinThickness</th>\n",
       "      <th>Insulin</th>\n",
       "      <th>BMI</th>\n",
       "      <th>DiabetesPedigreeFunction</th>\n",
       "      <th>Age</th>\n",
       "      <th>Outcome</th>\n",
       "    </tr>\n",
       "  </thead>\n",
       "  <tbody>\n",
       "    <tr>\n",
       "      <th>0</th>\n",
       "      <td>6</td>\n",
       "      <td>148</td>\n",
       "      <td>72</td>\n",
       "      <td>35</td>\n",
       "      <td>0</td>\n",
       "      <td>33.6</td>\n",
       "      <td>0.627</td>\n",
       "      <td>50</td>\n",
       "      <td>1</td>\n",
       "    </tr>\n",
       "    <tr>\n",
       "      <th>1</th>\n",
       "      <td>1</td>\n",
       "      <td>85</td>\n",
       "      <td>66</td>\n",
       "      <td>29</td>\n",
       "      <td>0</td>\n",
       "      <td>26.6</td>\n",
       "      <td>0.351</td>\n",
       "      <td>31</td>\n",
       "      <td>0</td>\n",
       "    </tr>\n",
       "    <tr>\n",
       "      <th>2</th>\n",
       "      <td>8</td>\n",
       "      <td>183</td>\n",
       "      <td>64</td>\n",
       "      <td>0</td>\n",
       "      <td>0</td>\n",
       "      <td>23.3</td>\n",
       "      <td>0.672</td>\n",
       "      <td>32</td>\n",
       "      <td>1</td>\n",
       "    </tr>\n",
       "    <tr>\n",
       "      <th>3</th>\n",
       "      <td>1</td>\n",
       "      <td>89</td>\n",
       "      <td>66</td>\n",
       "      <td>23</td>\n",
       "      <td>94</td>\n",
       "      <td>28.1</td>\n",
       "      <td>0.167</td>\n",
       "      <td>21</td>\n",
       "      <td>0</td>\n",
       "    </tr>\n",
       "    <tr>\n",
       "      <th>4</th>\n",
       "      <td>0</td>\n",
       "      <td>137</td>\n",
       "      <td>40</td>\n",
       "      <td>35</td>\n",
       "      <td>168</td>\n",
       "      <td>43.1</td>\n",
       "      <td>2.288</td>\n",
       "      <td>33</td>\n",
       "      <td>1</td>\n",
       "    </tr>\n",
       "  </tbody>\n",
       "</table>\n",
       "</div>"
      ],
      "text/plain": [
       "   Pregnancies  Glucose  BloodPressure  SkinThickness  Insulin   BMI  \\\n",
       "0            6      148             72             35        0  33.6   \n",
       "1            1       85             66             29        0  26.6   \n",
       "2            8      183             64              0        0  23.3   \n",
       "3            1       89             66             23       94  28.1   \n",
       "4            0      137             40             35      168  43.1   \n",
       "\n",
       "   DiabetesPedigreeFunction  Age  Outcome  \n",
       "0                     0.627   50        1  \n",
       "1                     0.351   31        0  \n",
       "2                     0.672   32        1  \n",
       "3                     0.167   21        0  \n",
       "4                     2.288   33        1  "
      ]
     },
     "execution_count": 43,
     "metadata": {},
     "output_type": "execute_result"
    }
   ],
   "source": [
    "#datos = pandas.read_csv(\"datos/titanic.csv\")\n",
    "#datos = pandas.read_csv(\"datos/BreastCancerDataset.csv\")\n",
    "datos = pandas.read_csv(\"datos/diabetes.csv\")\n",
    "datos.head()"
   ]
  },
  {
   "cell_type": "markdown",
   "metadata": {},
   "source": [
    "El primer paso para proceder con la selección de características es el que consiste en definir una función que nos permita evaluar los resultados obtenidos a la hora de predecir una característica dado un número de variables. Por lo tanto, el método nos queda de la siguiente forma:\n",
    "\n",
    "Tenemos una función que recibe las siguientes variables:\n",
    "<ul>\n",
    "    <li>Datos: El conjunto de datos a tratar</li>\n",
    "    <li>Variables: Conjunto de columnas con las que entrenar nuestro modelo de predicción</li>\n",
    "    <li>Objetivo: Columna a predecir</li>\n",
    "    <li>N_exp: Número de experimentos a llevar a cabo</li>\n",
    "    <li>Cv: Número de folds</li>\n",
    "</ul>\n",
    "\n",
    "Y nos devuelve la puntuación promedio obtenida a la hora de llevar a cabo los sucesivos experimentos sobre el conjunto de variables dado."
   ]
  },
  {
   "cell_type": "code",
   "execution_count": 26,
   "metadata": {},
   "outputs": [],
   "source": [
    "def evaluar_soluciones(datos, variables, objetivo, n_exp, cv, clf = tree.DecisionTreeClassifier(), scoring = \"balanced_accuracy\"):\n",
    "    data_frame = pandas.DataFrame(data=datos)\n",
    "    X = data_frame[variables]\n",
    "    y = data_frame[objetivo]\n",
    "    \n",
    "    scores = np.mean(cross_val_score(clf, X, y, scoring=scoring, cv=cv, n_jobs=-1))\n",
    "    \n",
    "    for i in range(n_exp-1):\n",
    "        new_scores = np.mean(cross_val_score(clf, X, y, scoring=scoring, cv=cv, n_jobs=-1))\n",
    "        scores = scores + new_scores\n",
    "    \n",
    "    scores = scores/n_exp\n",
    "    return scores"
   ]
  },
  {
   "cell_type": "markdown",
   "metadata": {},
   "source": [
    "Con la función mostrar_datos(variables) que implementamos a continuación, lo que queremos hacer es mostrar para cada conjunto de variables evaluado sus correspondientes resultados. De esta forma, lo que recibe es un array que contiene un array de variables en cada posición y el objetivo que no es mas que la variable que queremos priorizar:"
   ]
  },
  {
   "cell_type": "code",
   "execution_count": 27,
   "metadata": {},
   "outputs": [],
   "source": [
    "def mostrar_datos(datos):\n",
    "    datos_tabla = [['Mejor Solución', 'Tamaño', 'Rendimiento']]\n",
    "    claves = datos.keys()\n",
    "    \n",
    "    for clave in claves:\n",
    "        length = len(clave.split(\", \"))\n",
    "        datos_tabla = datos_tabla +[[clave, length, datos[clave]]]\n",
    "\n",
    "    return pandas.DataFrame(datos_tabla)"
   ]
  },
  {
   "cell_type": "markdown",
   "metadata": {},
   "source": [
    "Definimos también una función que nos muestre los resultados obtenidos en una tabla"
   ]
  },
  {
   "cell_type": "code",
   "execution_count": 28,
   "metadata": {},
   "outputs": [],
   "source": [
    "def pintar_resultados(resultados): \n",
    "    plt.rcdefaults()\n",
    "    fig, ax = plt.subplots()\n",
    "\n",
    "    # Example data\n",
    "    people = resultados.keys()\n",
    "    y_pos = np.arange(len(people))\n",
    "    performance = resultado_SFFS.values()\n",
    "\n",
    "    ax.barh(y_pos, performance, align='center')\n",
    "    ax.set_yticks(y_pos)\n",
    "    ax.set_yticklabels(people)\n",
    "    ax.invert_yaxis()\n",
    "    ax.set_xlabel('Rendimiento')\n",
    "    ax.set_title('Selección de características')\n",
    "    plt.show()"
   ]
  },
  {
   "cell_type": "markdown",
   "metadata": {},
   "source": [
    "Implementamos la función SFS"
   ]
  },
  {
   "cell_type": "code",
   "execution_count": 29,
   "metadata": {},
   "outputs": [],
   "source": [
    "def SFS(datos, respuesta, d = 0):\n",
    "    start = time.time()\n",
    "    \n",
    "    diccionario_resultado = {}\n",
    "    soluciones_actual = []\n",
    "    columnas = list(datos.columns)\n",
    "    \n",
    "    #Compruebo que la variable a predecir no esté en mi conjunto de variables a evaluar\n",
    "    if respuesta in columnas:\n",
    "        columnas.remove(respuesta)\n",
    "        \n",
    "    k = 0\n",
    "    d = d if d else len(columnas)\n",
    "\n",
    "    while(k<d):\n",
    "        resultado = []\n",
    "        score_resultado = 0\n",
    "\n",
    "        for i in range(len(columnas)):\n",
    "            \n",
    "            #Compruebo que la nueva variable a evaluar no haya sido ya evaluada\n",
    "            if columnas[i] not in soluciones_actual:\n",
    "                solucionTemporal = list(soluciones_actual)\n",
    "                solucionTemporal.append(columnas[i])\n",
    "                new_resultado = evaluar_soluciones(datos, solucionTemporal, respuesta, 15, 10)\n",
    "                \n",
    "                #Si el resultado es favorable, actualizo el resultado final\n",
    "                if new_resultado > score_resultado:\n",
    "                    resultado = solucionTemporal\n",
    "                    score_resultado = new_resultado\n",
    "        \n",
    "        soluciones_actual.append(resultado[len(resultado)-1])\n",
    "        clave = ', '.join(soluciones_actual)\n",
    "        diccionario_resultado[clave] = score_resultado\n",
    "        k = k+1\n",
    "        \n",
    "    done = time.time()\n",
    "    elapsed = done - start\n",
    "    print(\"Tiempo empleado: \", elapsed)\n",
    "        \n",
    "    return diccionario_resultado"
   ]
  },
  {
   "cell_type": "markdown",
   "metadata": {},
   "source": [
    "Probamos el algoritmo SFS implementado:"
   ]
  },
  {
   "cell_type": "code",
   "execution_count": 48,
   "metadata": {},
   "outputs": [
    {
     "name": "stdout",
     "output_type": "stream",
     "text": [
      "Tiempo empleado:  12.669646501541138\n"
     ]
    }
   ],
   "source": [
    "resultado_SFS = SFS(datos, \"Outcome\")"
   ]
  },
  {
   "cell_type": "markdown",
   "metadata": {},
   "source": [
    "Ahora que tenemos los resultados del algoritmo, los mostramos por pantalla:"
   ]
  },
  {
   "cell_type": "code",
   "execution_count": 49,
   "metadata": {},
   "outputs": [
    {
     "data": {
      "text/html": [
       "<div>\n",
       "<style scoped>\n",
       "    .dataframe tbody tr th:only-of-type {\n",
       "        vertical-align: middle;\n",
       "    }\n",
       "\n",
       "    .dataframe tbody tr th {\n",
       "        vertical-align: top;\n",
       "    }\n",
       "\n",
       "    .dataframe thead th {\n",
       "        text-align: right;\n",
       "    }\n",
       "</style>\n",
       "<table border=\"1\" class=\"dataframe\">\n",
       "  <thead>\n",
       "    <tr style=\"text-align: right;\">\n",
       "      <th></th>\n",
       "      <th>0</th>\n",
       "      <th>1</th>\n",
       "      <th>2</th>\n",
       "    </tr>\n",
       "  </thead>\n",
       "  <tbody>\n",
       "    <tr>\n",
       "      <th>0</th>\n",
       "      <td>Mejor Solución</td>\n",
       "      <td>Tamaño</td>\n",
       "      <td>Rendimiento</td>\n",
       "    </tr>\n",
       "    <tr>\n",
       "      <th>1</th>\n",
       "      <td>Glucose</td>\n",
       "      <td>1</td>\n",
       "      <td>0.628302</td>\n",
       "    </tr>\n",
       "    <tr>\n",
       "      <th>2</th>\n",
       "      <td>Glucose, BMI</td>\n",
       "      <td>2</td>\n",
       "      <td>0.673129</td>\n",
       "    </tr>\n",
       "    <tr>\n",
       "      <th>3</th>\n",
       "      <td>Glucose, BMI, Age</td>\n",
       "      <td>3</td>\n",
       "      <td>0.666637</td>\n",
       "    </tr>\n",
       "    <tr>\n",
       "      <th>4</th>\n",
       "      <td>Glucose, BMI, Age, DiabetesPedigreeFunction</td>\n",
       "      <td>4</td>\n",
       "      <td>0.667284</td>\n",
       "    </tr>\n",
       "    <tr>\n",
       "      <th>5</th>\n",
       "      <td>Glucose, BMI, Age, DiabetesPedigreeFunction, Pregnancies</td>\n",
       "      <td>5</td>\n",
       "      <td>0.686603</td>\n",
       "    </tr>\n",
       "    <tr>\n",
       "      <th>6</th>\n",
       "      <td>Glucose, BMI, Age, DiabetesPedigreeFunction, Pregnancies, BloodPressure</td>\n",
       "      <td>6</td>\n",
       "      <td>0.686051</td>\n",
       "    </tr>\n",
       "    <tr>\n",
       "      <th>7</th>\n",
       "      <td>Glucose, BMI, Age, DiabetesPedigreeFunction, Pregnancies, BloodPressure, SkinThickness</td>\n",
       "      <td>7</td>\n",
       "      <td>0.685879</td>\n",
       "    </tr>\n",
       "    <tr>\n",
       "      <th>8</th>\n",
       "      <td>Glucose, BMI, Age, DiabetesPedigreeFunction, Pregnancies, BloodPressure, SkinThickness, Insulin</td>\n",
       "      <td>8</td>\n",
       "      <td>0.672965</td>\n",
       "    </tr>\n",
       "  </tbody>\n",
       "</table>\n",
       "</div>"
      ],
      "text/plain": [
       "                                                                                                 0  \\\n",
       "0                                                                                   Mejor Solución   \n",
       "1                                                                                          Glucose   \n",
       "2                                                                                     Glucose, BMI   \n",
       "3                                                                                Glucose, BMI, Age   \n",
       "4                                                      Glucose, BMI, Age, DiabetesPedigreeFunction   \n",
       "5                                         Glucose, BMI, Age, DiabetesPedigreeFunction, Pregnancies   \n",
       "6                          Glucose, BMI, Age, DiabetesPedigreeFunction, Pregnancies, BloodPressure   \n",
       "7           Glucose, BMI, Age, DiabetesPedigreeFunction, Pregnancies, BloodPressure, SkinThickness   \n",
       "8  Glucose, BMI, Age, DiabetesPedigreeFunction, Pregnancies, BloodPressure, SkinThickness, Insulin   \n",
       "\n",
       "        1            2  \n",
       "0  Tamaño  Rendimiento  \n",
       "1       1     0.628302  \n",
       "2       2     0.673129  \n",
       "3       3     0.666637  \n",
       "4       4     0.667284  \n",
       "5       5     0.686603  \n",
       "6       6     0.686051  \n",
       "7       7     0.685879  \n",
       "8       8     0.672965  "
      ]
     },
     "execution_count": 49,
     "metadata": {},
     "output_type": "execute_result"
    }
   ],
   "source": [
    "mostrar_datos(resultado_SFS)"
   ]
  },
  {
   "cell_type": "markdown",
   "metadata": {},
   "source": [
    "Implementamos la funcion SFFS"
   ]
  },
  {
   "cell_type": "code",
   "execution_count": 44,
   "metadata": {},
   "outputs": [],
   "source": [
    "def SFFS(datos, respuesta):\n",
    "    start = time.time()\n",
    "    diccionario_resultado = {}\n",
    "    soluciones_actual = []\n",
    "    añadidos = []\n",
    "    eliminados = []\n",
    "    columnas = list(datos.columns)\n",
    "    k = 0\n",
    "    \n",
    "    #Compruebo que la variable a predecir no esté en mi conjunto de variables a evaluar\n",
    "    if respuesta in columnas:\n",
    "        columnas.remove(respuesta)\n",
    "    \n",
    "    while(k<10):\n",
    "        resultado = []\n",
    "        score_resultado = 0\n",
    "        score_resultado_eliminado = 0\n",
    "        resultado_eliminado = []\n",
    "        eliminado = ''\n",
    "\n",
    "        for i in range(len(columnas)):\n",
    "            \n",
    "            #Compruebo que la nueva variable a evaluar no haya sido ya evaluada o este en añadidos\n",
    "            if columnas[i] not in soluciones_actual and columnas[i] not in añadidos:\n",
    "                solucionTemporal = list(soluciones_actual)\n",
    "                solucionTemporal.append(columnas[i])\n",
    "                new_resultado = evaluar_soluciones(datos, solucionTemporal, respuesta, 15, 10)\n",
    "                \n",
    "                #Si el resultado es favorable, actualizo el resultado final\n",
    "                if new_resultado > score_resultado:\n",
    "                    resultado = solucionTemporal\n",
    "                    score_resultado = new_resultado\n",
    "                    \n",
    "        if len(resultado)>0:\n",
    "            soluciones_actual.append(resultado[len(resultado)-1])\n",
    "            añadidos.append(resultado[len(resultado)-1])\n",
    "                \n",
    "        score_resultado_eliminado = score_resultado\n",
    "                \n",
    "        if len(soluciones_actual)>1:\n",
    "            for i in range(len(soluciones_actual)):\n",
    "\n",
    "                #Compruebo que la variable a evaluar no este en eliminados\n",
    "                if soluciones_actual[i] not in eliminados:\n",
    "                    solucionTemporal = list(soluciones_actual)\n",
    "                    solucionTemporal.remove(soluciones_actual[i])\n",
    "                    new_resultado = evaluar_soluciones(datos, solucionTemporal, respuesta, 15, 10)\n",
    "\n",
    "                    #Si el resultado es favorable, actualizo el resultado para eliminar la variable actual que\n",
    "                    #ha sido quitada de la solución actual\n",
    "                    if new_resultado > score_resultado_eliminado:\n",
    "                        resultado_eliminado = solucionTemporal\n",
    "                        score_resultado_eliminado = new_resultado\n",
    "                        eliminado = soluciones_actual[i]\n",
    "            \n",
    "            if score_resultado<score_resultado_eliminado:     \n",
    "                soluciones_actual = resultado_eliminado\n",
    "                eliminados.append(eliminado)\n",
    "                k=0\n",
    "                \n",
    "        if len(columnas) == len(datos.columns)-1:\n",
    "            k = k+1\n",
    "        \n",
    "        if len(añadidos)<len(columnas):\n",
    "            clave = ', '.join(soluciones_actual)\n",
    "            diccionario_resultado[clave] = score_resultado_eliminado\n",
    "\n",
    "    done = time.time()\n",
    "    elapsed = done - start\n",
    "    print(\"Tiempo empleado: \", elapsed)\n",
    "    return diccionario_resultado"
   ]
  },
  {
   "cell_type": "markdown",
   "metadata": {},
   "source": [
    "Probamos el algoritmo SFFS implementado:"
   ]
  },
  {
   "cell_type": "code",
   "execution_count": 45,
   "metadata": {},
   "outputs": [
    {
     "name": "stdout",
     "output_type": "stream",
     "text": [
      "Tiempo empleado:  19.152248859405518\n"
     ]
    }
   ],
   "source": [
    "resultado_SFFS = SFFS(datos, \"Outcome\")"
   ]
  },
  {
   "cell_type": "markdown",
   "metadata": {},
   "source": [
    "Ahora que tenemos los resultados del algoritmo, los mostramos por pantalla:"
   ]
  },
  {
   "cell_type": "code",
   "execution_count": 46,
   "metadata": {},
   "outputs": [
    {
     "data": {
      "text/html": [
       "<div>\n",
       "<style scoped>\n",
       "    .dataframe tbody tr th:only-of-type {\n",
       "        vertical-align: middle;\n",
       "    }\n",
       "\n",
       "    .dataframe tbody tr th {\n",
       "        vertical-align: top;\n",
       "    }\n",
       "\n",
       "    .dataframe thead th {\n",
       "        text-align: right;\n",
       "    }\n",
       "</style>\n",
       "<table border=\"1\" class=\"dataframe\">\n",
       "  <thead>\n",
       "    <tr style=\"text-align: right;\">\n",
       "      <th></th>\n",
       "      <th>0</th>\n",
       "      <th>1</th>\n",
       "      <th>2</th>\n",
       "    </tr>\n",
       "  </thead>\n",
       "  <tbody>\n",
       "    <tr>\n",
       "      <th>0</th>\n",
       "      <td>Mejor Solución</td>\n",
       "      <td>Tamaño</td>\n",
       "      <td>Rendimiento</td>\n",
       "    </tr>\n",
       "    <tr>\n",
       "      <th>1</th>\n",
       "      <td>Glucose</td>\n",
       "      <td>1</td>\n",
       "      <td>0.628302</td>\n",
       "    </tr>\n",
       "    <tr>\n",
       "      <th>2</th>\n",
       "      <td>Glucose, BMI</td>\n",
       "      <td>2</td>\n",
       "      <td>0.674062</td>\n",
       "    </tr>\n",
       "  </tbody>\n",
       "</table>\n",
       "</div>"
      ],
      "text/plain": [
       "                0       1            2\n",
       "0  Mejor Solución  Tamaño  Rendimiento\n",
       "1         Glucose       1     0.628302\n",
       "2    Glucose, BMI       2     0.674062"
      ]
     },
     "execution_count": 46,
     "metadata": {},
     "output_type": "execute_result"
    }
   ],
   "source": [
    "mostrar_datos(resultado_SFFS)"
   ]
  },
  {
   "cell_type": "code",
   "execution_count": 47,
   "metadata": {},
   "outputs": [
    {
     "data": {
      "image/png": "[encoded data removed]",
      "text/plain": [
       "<Figure size 640x480 with 1 Axes>"
      ]
     },
     "metadata": {},
     "output_type": "display_data"
    }
   ],
   "source": [
    "pintar_resultados(resultado_SFFS)"
   ]
  },
  {
   "cell_type": "code",
   "execution_count": null,
   "metadata": {},
   "outputs": [],
   "source": []
  }
 ],
 "metadata": {
  "kernelspec": {
   "display_name": "Python 3",
   "language": "python",
   "name": "python3"
  },
  "language_info": {
   "codemirror_mode": {
    "name": "ipython",
    "version": 3
   },
   "file_extension": ".py",
   "mimetype": "text/x-python",
   "name": "python",
   "nbconvert_exporter": "python",
   "pygments_lexer": "ipython3",
   "version": "3.6.9"
  }
 },
 "nbformat": 4,
 "nbformat_minor": 4
}
