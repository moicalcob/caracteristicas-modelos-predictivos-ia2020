{
 "cells": [
  {
   "cell_type": "markdown",
   "metadata": {},
   "source": [
    "# Selección de características en modelos predictivos"
   ]
  },
  {
   "cell_type": "markdown",
   "metadata": {},
   "source": [
    "Este proyecto es para IA de Moisés Calzado Cobo y Antonio Germán Márquez Trujillo"
   ]
  },
  {
   "cell_type": "markdown",
   "metadata": {},
   "source": [
    "Estos archivos contienen los algoritmos implementados, pero no los importamos ya que en esta libreta los implementamos explicando su funcionamiento\n"
   ]
  },
  {
   "cell_type": "code",
   "execution_count": 60,
   "metadata": {},
   "outputs": [],
   "source": [
    "## %run SFS.py\n",
    "## %run SFFS.py"
   ]
  },
  {
   "cell_type": "code",
   "execution_count": 43,
   "metadata": {},
   "outputs": [],
   "source": [
    "import pandas as pandas;\n",
    "import time;\n",
    "from sklearn.model_selection import cross_val_score;\n",
    "from sklearn import tree;\n",
    "from sklearn import preprocessing;\n",
    "import numpy as np;\n",
    "import matplotlib.pyplot as plt\n",
    "pandas.set_option('max_colwidth', 800)"
   ]
  },
  {
   "cell_type": "code",
   "execution_count": 44,
   "metadata": {},
   "outputs": [
    {
     "data": {
      "text/html": [
       "<div>\n",
       "<style scoped>\n",
       "    .dataframe tbody tr th:only-of-type {\n",
       "        vertical-align: middle;\n",
       "    }\n",
       "\n",
       "    .dataframe tbody tr th {\n",
       "        vertical-align: top;\n",
       "    }\n",
       "\n",
       "    .dataframe thead th {\n",
       "        text-align: right;\n",
       "    }\n",
       "</style>\n",
       "<table border=\"1\" class=\"dataframe\">\n",
       "  <thead>\n",
       "    <tr style=\"text-align: right;\">\n",
       "      <th></th>\n",
       "      <th>Pclass</th>\n",
       "      <th>Sex</th>\n",
       "      <th>Age</th>\n",
       "      <th>SibSp</th>\n",
       "      <th>Parch</th>\n",
       "      <th>Fare</th>\n",
       "      <th>Embarked</th>\n",
       "      <th>Initial</th>\n",
       "      <th>Age_band</th>\n",
       "      <th>Family_Size</th>\n",
       "      <th>Alone</th>\n",
       "      <th>Fare_cat</th>\n",
       "      <th>Deck</th>\n",
       "      <th>Title</th>\n",
       "      <th>Is_Married</th>\n",
       "      <th>Survived</th>\n",
       "    </tr>\n",
       "  </thead>\n",
       "  <tbody>\n",
       "    <tr>\n",
       "      <th>0</th>\n",
       "      <td>3</td>\n",
       "      <td>0</td>\n",
       "      <td>22.0</td>\n",
       "      <td>1</td>\n",
       "      <td>0</td>\n",
       "      <td>7.2500</td>\n",
       "      <td>0</td>\n",
       "      <td>0</td>\n",
       "      <td>1</td>\n",
       "      <td>1</td>\n",
       "      <td>0</td>\n",
       "      <td>0</td>\n",
       "      <td>7</td>\n",
       "      <td>11</td>\n",
       "      <td>0</td>\n",
       "      <td>0</td>\n",
       "    </tr>\n",
       "    <tr>\n",
       "      <th>1</th>\n",
       "      <td>1</td>\n",
       "      <td>1</td>\n",
       "      <td>38.0</td>\n",
       "      <td>1</td>\n",
       "      <td>0</td>\n",
       "      <td>71.2833</td>\n",
       "      <td>1</td>\n",
       "      <td>1</td>\n",
       "      <td>2</td>\n",
       "      <td>1</td>\n",
       "      <td>0</td>\n",
       "      <td>3</td>\n",
       "      <td>2</td>\n",
       "      <td>12</td>\n",
       "      <td>1</td>\n",
       "      <td>1</td>\n",
       "    </tr>\n",
       "    <tr>\n",
       "      <th>2</th>\n",
       "      <td>3</td>\n",
       "      <td>1</td>\n",
       "      <td>26.0</td>\n",
       "      <td>0</td>\n",
       "      <td>0</td>\n",
       "      <td>7.9250</td>\n",
       "      <td>0</td>\n",
       "      <td>2</td>\n",
       "      <td>1</td>\n",
       "      <td>0</td>\n",
       "      <td>1</td>\n",
       "      <td>1</td>\n",
       "      <td>7</td>\n",
       "      <td>8</td>\n",
       "      <td>0</td>\n",
       "      <td>1</td>\n",
       "    </tr>\n",
       "    <tr>\n",
       "      <th>3</th>\n",
       "      <td>1</td>\n",
       "      <td>1</td>\n",
       "      <td>35.0</td>\n",
       "      <td>1</td>\n",
       "      <td>0</td>\n",
       "      <td>53.1000</td>\n",
       "      <td>0</td>\n",
       "      <td>1</td>\n",
       "      <td>2</td>\n",
       "      <td>1</td>\n",
       "      <td>0</td>\n",
       "      <td>3</td>\n",
       "      <td>2</td>\n",
       "      <td>12</td>\n",
       "      <td>1</td>\n",
       "      <td>1</td>\n",
       "    </tr>\n",
       "    <tr>\n",
       "      <th>4</th>\n",
       "      <td>3</td>\n",
       "      <td>0</td>\n",
       "      <td>35.0</td>\n",
       "      <td>0</td>\n",
       "      <td>0</td>\n",
       "      <td>8.0500</td>\n",
       "      <td>0</td>\n",
       "      <td>0</td>\n",
       "      <td>2</td>\n",
       "      <td>0</td>\n",
       "      <td>1</td>\n",
       "      <td>1</td>\n",
       "      <td>7</td>\n",
       "      <td>11</td>\n",
       "      <td>0</td>\n",
       "      <td>0</td>\n",
       "    </tr>\n",
       "  </tbody>\n",
       "</table>\n",
       "</div>"
      ],
      "text/plain": [
       "   Pclass  Sex   Age  SibSp  Parch     Fare  Embarked  Initial  Age_band  \\\n",
       "0       3    0  22.0      1      0   7.2500         0        0         1   \n",
       "1       1    1  38.0      1      0  71.2833         1        1         2   \n",
       "2       3    1  26.0      0      0   7.9250         0        2         1   \n",
       "3       1    1  35.0      1      0  53.1000         0        1         2   \n",
       "4       3    0  35.0      0      0   8.0500         0        0         2   \n",
       "\n",
       "   Family_Size  Alone  Fare_cat  Deck  Title  Is_Married  Survived  \n",
       "0            1      0         0     7     11           0         0  \n",
       "1            1      0         3     2     12           1         1  \n",
       "2            0      1         1     7      8           0         1  \n",
       "3            1      0         3     2     12           1         1  \n",
       "4            0      1         1     7     11           0         0  "
      ]
     },
     "execution_count": 44,
     "metadata": {},
     "output_type": "execute_result"
    }
   ],
   "source": [
    "datos = pandas.read_csv(\"datos/titanic.csv\")\n",
    "#datos = pandas.read_csv(\"datos/BreastCancerDataset.csv\")\n",
    "#datos = pandas.read_csv(\"datos/diabetes.csv\")\n",
    "datos.head()"
   ]
  },
  {
   "cell_type": "markdown",
   "metadata": {},
   "source": [
    "El primer paso para proceder con la selección de características es el que consiste en definir una función que nos permita evaluar los resultados obtenidos a la hora de predecir una característica dado un número de variables. Por lo tanto, el método nos queda de la siguiente forma:\n",
    "\n",
    "Tenemos una función que recibe las siguientes variables:\n",
    "<ul>\n",
    "    <li>Datos: El conjunto de datos a tratar</li>\n",
    "    <li>Variables: Conjunto de columnas con las que entrenar nuestro modelo de predicción</li>\n",
    "    <li>Objetivo: Columna a predecir</li>\n",
    "    <li>N_exp: Número de experimentos a llevar a cabo</li>\n",
    "    <li>Cv: COMPLETAR</li>\n",
    "</ul>\n",
    "\n",
    "Y nos devuelve la puntuación promedio obtenida a la hora de llevar a cabo los sucesivos experimentos sobre el conjunto de variables dado."
   ]
  },
  {
   "cell_type": "code",
   "execution_count": 45,
   "metadata": {},
   "outputs": [],
   "source": [
    "def evaluar_soluciones(datos, variables, objetivo, n_exp, cv):\n",
    "    data_frame = pandas.DataFrame(data=datos)\n",
    "    X = data_frame[variables]\n",
    "    y = data_frame[objetivo]\n",
    "    clf = tree.DecisionTreeClassifier()\n",
    "    \n",
    "    scores = cross_val_score(clf, X, y, cv=cv, scoring=\"balanced_accuracy\")\n",
    "    \n",
    "    for i in range(n_exp-1):\n",
    "        new_scores = cross_val_score(clf, X, y, cv=cv, scoring=\"balanced_accuracy\") \n",
    "        scores = scores + new_scores\n",
    "    \n",
    "    scores = scores/n_exp\n",
    "    return np.mean(scores)"
   ]
  },
  {
   "cell_type": "markdown",
   "metadata": {},
   "source": [
    "Con la función mostrar_datos(variables) que implementamos a continuación, lo que queremos hacer es mostrar para cada conjunto de variables evaluado sus correspondientes resultados. De esta forma, lo que recibe es un array que contiene un array de variables en cada posición y el objetivo que no es mas que la variable que queremos priorizar:"
   ]
  },
  {
   "cell_type": "code",
   "execution_count": 46,
   "metadata": {},
   "outputs": [],
   "source": [
    "def mostrar_datos(datos):\n",
    "    datos_tabla = [['Mejor Solución', 'Tamaño', 'Rendimiento']]\n",
    "    claves = datos.keys()\n",
    "    \n",
    "    for clave in claves:\n",
    "        length = len(clave.split(\", \"))\n",
    "        datos_tabla = datos_tabla +[[clave, length, datos[clave]]]\n",
    "\n",
    "    return pandas.DataFrame(datos_tabla)"
   ]
  },
  {
   "cell_type": "markdown",
   "metadata": {},
   "source": [
    "Implementamos la función SFS"
   ]
  },
  {
   "cell_type": "code",
   "execution_count": 47,
   "metadata": {},
   "outputs": [],
   "source": [
    "def SFS(datos, respuesta, d = 0):\n",
    "    start = time.time()\n",
    "    \n",
    "    diccionario_resultado = {}\n",
    "    soluciones_actual = []\n",
    "    columnas = list(datos.columns)\n",
    "    \n",
    "    #Compruebo que la variable a predecir no esté en mi conjunto de variables a evaluar\n",
    "    if respuesta in columnas:\n",
    "        columnas.remove(respuesta)\n",
    "        \n",
    "    k = 0\n",
    "    d = d if d else len(columnas)\n",
    "\n",
    "    while(k<d):\n",
    "        resultado = []\n",
    "        score_resultado = 0\n",
    "\n",
    "        for i in range(len(columnas)):\n",
    "            \n",
    "            #Compruebo que la nueva variable a evaluar no haya sido ya evaluada\n",
    "            if columnas[i] not in soluciones_actual:\n",
    "                solucionTemporal = list(soluciones_actual)\n",
    "                solucionTemporal.append(columnas[i])\n",
    "                new_resultado = evaluar_soluciones(datos, solucionTemporal, respuesta, 15, 10)\n",
    "                \n",
    "                #Si el resultado es favorable, actualizo el resultado final\n",
    "                if new_resultado > score_resultado:\n",
    "                    resultado = solucionTemporal\n",
    "                    score_resultado = new_resultado\n",
    "        \n",
    "        soluciones_actual.append(resultado[len(resultado)-1])\n",
    "        clave = ', '.join(soluciones_actual)\n",
    "        diccionario_resultado[clave] = score_resultado\n",
    "        k = k+1\n",
    "        \n",
    "    done = time.time()\n",
    "    elapsed = done - start\n",
    "    print(elapsed)\n",
    "        \n",
    "    return diccionario_resultado"
   ]
  },
  {
   "cell_type": "markdown",
   "metadata": {},
   "source": [
    "Probamos el algoritmo SFS implementado:"
   ]
  },
  {
   "cell_type": "code",
   "execution_count": 48,
   "metadata": {},
   "outputs": [
    {
     "name": "stdout",
     "output_type": "stream",
     "text": [
      "28.59966802597046\n"
     ]
    }
   ],
   "source": [
    "resultado_SFS = SFS(datos, \"Survived\", 3)"
   ]
  },
  {
   "cell_type": "markdown",
   "metadata": {},
   "source": [
    "Ahora que tenemos los resultados del algoritmo, los mostramos por pantalla:"
   ]
  },
  {
   "cell_type": "code",
   "execution_count": 49,
   "metadata": {},
   "outputs": [
    {
     "data": {
      "text/html": [
       "<div>\n",
       "<style scoped>\n",
       "    .dataframe tbody tr th:only-of-type {\n",
       "        vertical-align: middle;\n",
       "    }\n",
       "\n",
       "    .dataframe tbody tr th {\n",
       "        vertical-align: top;\n",
       "    }\n",
       "\n",
       "    .dataframe thead th {\n",
       "        text-align: right;\n",
       "    }\n",
       "</style>\n",
       "<table border=\"1\" class=\"dataframe\">\n",
       "  <thead>\n",
       "    <tr style=\"text-align: right;\">\n",
       "      <th></th>\n",
       "      <th>0</th>\n",
       "      <th>1</th>\n",
       "      <th>2</th>\n",
       "    </tr>\n",
       "  </thead>\n",
       "  <tbody>\n",
       "    <tr>\n",
       "      <th>0</th>\n",
       "      <td>Mejor Solución</td>\n",
       "      <td>Tamaño</td>\n",
       "      <td>Rendimiento</td>\n",
       "    </tr>\n",
       "    <tr>\n",
       "      <th>1</th>\n",
       "      <td>Initial</td>\n",
       "      <td>1</td>\n",
       "      <td>0.783354</td>\n",
       "    </tr>\n",
       "    <tr>\n",
       "      <th>2</th>\n",
       "      <td>Initial, SibSp</td>\n",
       "      <td>2</td>\n",
       "      <td>0.805218</td>\n",
       "    </tr>\n",
       "    <tr>\n",
       "      <th>3</th>\n",
       "      <td>Initial, SibSp, Deck</td>\n",
       "      <td>3</td>\n",
       "      <td>0.80772</td>\n",
       "    </tr>\n",
       "  </tbody>\n",
       "</table>\n",
       "</div>"
      ],
      "text/plain": [
       "                      0       1            2\n",
       "0        Mejor Solución  Tamaño  Rendimiento\n",
       "1               Initial       1     0.783354\n",
       "2        Initial, SibSp       2     0.805218\n",
       "3  Initial, SibSp, Deck       3      0.80772"
      ]
     },
     "execution_count": 49,
     "metadata": {},
     "output_type": "execute_result"
    }
   ],
   "source": [
    "mostrar_datos(resultado_SFS)"
   ]
  },
  {
   "cell_type": "markdown",
   "metadata": {},
   "source": [
    "Implementamos la funcion SFFS"
   ]
  },
  {
   "cell_type": "code",
   "execution_count": 55,
   "metadata": {},
   "outputs": [],
   "source": [
    "def SFFS(datos, respuesta):\n",
    "    diccionario_resultado = {}\n",
    "    soluciones_actual = []\n",
    "    añadidos = []\n",
    "    eliminados = []\n",
    "    columnas = list(datos.columns)\n",
    "    k = 0\n",
    "    \n",
    "    #Compruebo que la variable a predecir no esté en mi conjunto de variables a evaluar\n",
    "    if respuesta in columnas:\n",
    "        columnas.remove(respuesta)\n",
    "    \n",
    "    while(k<10):\n",
    "        resultado = []\n",
    "        score_resultado = 0\n",
    "        score_resultado_eliminado = 0\n",
    "        resultado_eliminado = []\n",
    "        eliminado = ''\n",
    "\n",
    "        for i in range(len(columnas)):\n",
    "            \n",
    "            #Compruebo que la nueva variable a evaluar no haya sido ya evaluada o este en añadidos\n",
    "            if columnas[i] not in soluciones_actual and columnas[i] not in añadidos:\n",
    "                solucionTemporal = list(soluciones_actual)\n",
    "                solucionTemporal.append(columnas[i])\n",
    "                new_resultado = evaluar_soluciones(datos, solucionTemporal, respuesta, 15, 10)\n",
    "                \n",
    "                #Si el resultado es favorable, actualizo el resultado final\n",
    "                if new_resultado > score_resultado:\n",
    "                    resultado = solucionTemporal\n",
    "                    score_resultado = new_resultado\n",
    "                    \n",
    "        if len(resultado)>0:\n",
    "            soluciones_actual.append(resultado[len(resultado)-1])\n",
    "            añadidos.append(resultado[len(resultado)-1])\n",
    "        \n",
    "        score_resultado_eliminado = score_resultado\n",
    "        \n",
    "        if len(soluciones_actual)>1:\n",
    "            for i in range(len(soluciones_actual)):\n",
    "\n",
    "                #Compruebo que la variable a evaluar no este en eliminados\n",
    "                if soluciones_actual[i] not in eliminados:\n",
    "                    solucionTemporal = list(soluciones_actual)\n",
    "                    solucionTemporal.remove(soluciones_actual[i])\n",
    "                    new_resultado = evaluar_soluciones(datos, solucionTemporal, respuesta, 15, 10)\n",
    "\n",
    "                    #Si el resultado es favorable, actualizo el resultado para eliminar la variable actual que\n",
    "                    #ha sido quitada de la solución actual\n",
    "                    if new_resultado > score_resultado_eliminado:\n",
    "                        resultado_eliminado = solucionTemporal\n",
    "                        score_resultado_eliminado = new_resultado\n",
    "                        eliminado = soluciones_actual[i]\n",
    "                    \n",
    "            if score_resultado<score_resultado_eliminado:     \n",
    "                soluciones_actual = resultado_eliminado\n",
    "                eliminados.append(eliminado)\n",
    "                k=0\n",
    "        \n",
    "        k = k+1\n",
    "        \n",
    "        if len(añadidos)<len(columnas):\n",
    "            clave = ', '.join(soluciones_actual)\n",
    "            diccionario_resultado[clave] = score_resultado_eliminado\n",
    "                    \n",
    "    return diccionario_resultado"
   ]
  },
  {
   "cell_type": "markdown",
   "metadata": {},
   "source": [
    "Probamos el algoritmo SFFS implementado:"
   ]
  },
  {
   "cell_type": "code",
   "execution_count": 56,
   "metadata": {},
   "outputs": [],
   "source": [
    "resultado_SFFS = SFFS(datos, \"Survived\")"
   ]
  },
  {
   "cell_type": "markdown",
   "metadata": {},
   "source": [
    "Ahora que tenemos los resultados del algoritmo, los mostramos por pantalla:"
   ]
  },
  {
   "cell_type": "code",
   "execution_count": 57,
   "metadata": {},
   "outputs": [
    {
     "data": {
      "text/html": [
       "<div>\n",
       "<style scoped>\n",
       "    .dataframe tbody tr th:only-of-type {\n",
       "        vertical-align: middle;\n",
       "    }\n",
       "\n",
       "    .dataframe tbody tr th {\n",
       "        vertical-align: top;\n",
       "    }\n",
       "\n",
       "    .dataframe thead th {\n",
       "        text-align: right;\n",
       "    }\n",
       "</style>\n",
       "<table border=\"1\" class=\"dataframe\">\n",
       "  <thead>\n",
       "    <tr style=\"text-align: right;\">\n",
       "      <th></th>\n",
       "      <th>0</th>\n",
       "      <th>1</th>\n",
       "      <th>2</th>\n",
       "    </tr>\n",
       "  </thead>\n",
       "  <tbody>\n",
       "    <tr>\n",
       "      <th>0</th>\n",
       "      <td>Mejor Solución</td>\n",
       "      <td>Tamaño</td>\n",
       "      <td>Rendimiento</td>\n",
       "    </tr>\n",
       "    <tr>\n",
       "      <th>1</th>\n",
       "      <td>Initial</td>\n",
       "      <td>1</td>\n",
       "      <td>0.783354</td>\n",
       "    </tr>\n",
       "    <tr>\n",
       "      <th>2</th>\n",
       "      <td>Initial, SibSp</td>\n",
       "      <td>2</td>\n",
       "      <td>0.805218</td>\n",
       "    </tr>\n",
       "    <tr>\n",
       "      <th>3</th>\n",
       "      <td>Initial, SibSp, Deck</td>\n",
       "      <td>3</td>\n",
       "      <td>0.80772</td>\n",
       "    </tr>\n",
       "    <tr>\n",
       "      <th>4</th>\n",
       "      <td>Initial, SibSp, Deck, Fare_cat</td>\n",
       "      <td>4</td>\n",
       "      <td>0.809803</td>\n",
       "    </tr>\n",
       "    <tr>\n",
       "      <th>5</th>\n",
       "      <td>Initial, SibSp, Deck, Fare_cat, Title</td>\n",
       "      <td>5</td>\n",
       "      <td>0.816</td>\n",
       "    </tr>\n",
       "    <tr>\n",
       "      <th>6</th>\n",
       "      <td>Initial, SibSp, Deck, Fare_cat, Title, Sex</td>\n",
       "      <td>6</td>\n",
       "      <td>0.815904</td>\n",
       "    </tr>\n",
       "    <tr>\n",
       "      <th>7</th>\n",
       "      <td>Initial, SibSp, Deck, Fare_cat, Title, Sex, Is_Married</td>\n",
       "      <td>7</td>\n",
       "      <td>0.815714</td>\n",
       "    </tr>\n",
       "  </tbody>\n",
       "</table>\n",
       "</div>"
      ],
      "text/plain": [
       "                                                        0       1            2\n",
       "0                                          Mejor Solución  Tamaño  Rendimiento\n",
       "1                                                 Initial       1     0.783354\n",
       "2                                          Initial, SibSp       2     0.805218\n",
       "3                                    Initial, SibSp, Deck       3      0.80772\n",
       "4                          Initial, SibSp, Deck, Fare_cat       4     0.809803\n",
       "5                   Initial, SibSp, Deck, Fare_cat, Title       5        0.816\n",
       "6              Initial, SibSp, Deck, Fare_cat, Title, Sex       6     0.815904\n",
       "7  Initial, SibSp, Deck, Fare_cat, Title, Sex, Is_Married       7     0.815714"
      ]
     },
     "execution_count": 57,
     "metadata": {},
     "output_type": "execute_result"
    }
   ],
   "source": [
    "mostrar_datos(resultado_SFFS)"
   ]
  },
  {
   "cell_type": "code",
   "execution_count": 37,
   "metadata": {},
   "outputs": [],
   "source": [
    "def pintar_resultados(resultados): \n",
    "    plt.rcdefaults()\n",
    "    fig, ax = plt.subplots()\n",
    "\n",
    "    # Example data\n",
    "    people = resultados.keys()\n",
    "    y_pos = np.arange(len(people))\n",
    "    performance = resultado_SFFS.values()\n",
    "\n",
    "    ax.barh(y_pos, performance, align='center')\n",
    "    ax.set_yticks(y_pos)\n",
    "    ax.set_yticklabels(people)\n",
    "    ax.invert_yaxis()\n",
    "    ax.set_xlabel('Rendimiento')\n",
    "    ax.set_title('Selección de características')\n",
    "    plt.show()"
   ]
  },
  {
   "cell_type": "code",
   "execution_count": 58,
   "metadata": {},
   "outputs": [
    {
     "data": {
      "image/png": "[encoded data removed]",
      "text/plain": [
       "<Figure size 640x480 with 1 Axes>"
      ]
     },
     "metadata": {},
     "output_type": "display_data"
    }
   ],
   "source": [
    "pintar_resultados(resultado_SFFS)"
   ]
  },
  {
   "cell_type": "code",
   "execution_count": null,
   "metadata": {},
   "outputs": [],
   "source": []
  }
 ],
 "metadata": {
  "kernelspec": {
   "display_name": "Python 3",
   "language": "python",
   "name": "python3"
  },
  "language_info": {
   "codemirror_mode": {
    "name": "ipython",
    "version": 3
   },
   "file_extension": ".py",
   "mimetype": "text/x-python",
   "name": "python",
   "nbconvert_exporter": "python",
   "pygments_lexer": "ipython3",
   "version": "3.7.6"
  }
 },
 "nbformat": 4,
 "nbformat_minor": 4
}
