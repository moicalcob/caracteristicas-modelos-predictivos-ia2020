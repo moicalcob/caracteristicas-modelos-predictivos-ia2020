{
 "cells": [
  {
   "cell_type": "markdown",
   "metadata": {},
   "source": [
    "# Selección de características en modelos predictivos"
   ]
  },
  {
   "cell_type": "markdown",
   "metadata": {},
   "source": [
    "Este proyecto es para IA de Moisés Calzado Cobo y Germán Márquez Trujillo"
   ]
  },
  {
   "cell_type": "code",
   "execution_count": 66,
   "metadata": {},
   "outputs": [],
   "source": [
    "import pandas as pandas;\n",
    "from sklearn.model_selection import cross_val_score;\n",
    "from sklearn import tree;\n",
    "from sklearn import preprocessing;\n",
    "import numpy as np;"
   ]
  },
  {
   "cell_type": "code",
   "execution_count": 195,
   "execution_count": 17,
   "metadata": {},
   "outputs": [],
   "source": [
    "datos = pandas.read_csv(\"titanic.csv\")"
   ]
  },
  {
   "cell_type": "code",
   "execution_count": 235,
   "cell_type": "markdown",
   "metadata": {},
   "source": [
    "def mostrar_datos(variables):\n",
    "    resultados = []\n",
    "    \n",
    "    for i in range(len(variables)):\n",
    "        new_resultado = evaluar_soluciones(datos, variables[i], objetivo, 15, 10)\n",
    "        resultados.append(new_resultado)\n",
    "    \n",
    "    datos_tabla = [['Solution', 'Score', 'Size']]\n",
    "    \n",
    "    for i in range(len(variables)):\n",
    "        datos_tabla = datos_tabla +[[variables[i],resultados[i],len(variables[i])]]\n",
    "    \n",
    "    return  pandas.DataFrame(datos_tabla)"
    "El primer paso para proceder con la selección de características es el que consiste en definir una función que nos permita evaluar los resultados obtenidos a la hora de predecir una característica dado un número de variables. Por lo tanto, el método nos queda de la siguiente forma:\n",
    "\n",
    "Tenemos una función que recibe las siguientes variables:\n",
    "<ul>\n",
    "    <li>Datos: El conjunto de datos a tratar</li>\n",
    "    <li>Variables: Conjunto de columnas con las que entrenar nuestro modelo de predicción</li>\n",
    "    <li>Objetivo: Columna a predecir</li>\n",
    "    <li>N_exp: Número de experimentos a llevar a cabo</li>\n",
    "    <li>Cv: COMPLETAR</li>\n",
    "</ul>\n",
    "\n",
    "Y nos devuelve la puntuación promedio obtenida a la hora de llevar a cabo los sucesivos experimentos sobre el conjunto de variables dado."
   ]
  },
  {
   "cell_type": "code",
   "execution_count": 221,
   "execution_count": 18,
   "metadata": {},
   "outputs": [],
   "source": [
    "def evaluar_soluciones(datos, variables, objetivo, n_exp, cv):\n",
    "    data_frame = pandas.DataFrame(data=datos)\n",
    "    X = data_frame[variables]\n",
    "    y = data_frame[objetivo]\n",
    "    clf = tree.DecisionTreeClassifier()\n",
    "    \n",
    "    scores = cross_val_score(clf, X, y, cv=cv, scoring=\"balanced_accuracy\")\n",
    "    \n",
    "    for i in range(n_exp-1):\n",
    "        new_scores = cross_val_score(clf, X, y, cv=cv, scoring=\"balanced_accuracy\") \n",
    "        scores = scores + new_scores\n",
    "    \n",
    "    scores = scores/n_exp\n",
    "    return np.mean(scores)"
   ]
  },
  {
   "cell_type": "markdown",
   "metadata": {},
   "source": [
    "Con la función mostrar_datos(variables, resultado) que implementamos a continuación, lo que queremos hacer es mostrar para cada conjunto de variables evaluado sus correspondientes resultados. De esta forma, lo que recibe es un array que contiene un array de variables en cada posición, y en la variable resultado el score calculado para el conjunto de variables correspondiente:"
   ]
  },
  {
   "cell_type": "code",
   "execution_count": 237,
   "metadata": {},
   "outputs": [
    {
     "data": {
      "text/html": [
       "<div>\n",
       "<style scoped>\n",
       "    .dataframe tbody tr th:only-of-type {\n",
       "        vertical-align: middle;\n",
       "    }\n",
       "\n",
       "    .dataframe tbody tr th {\n",
       "        vertical-align: top;\n",
       "    }\n",
       "\n",
       "    .dataframe thead th {\n",
       "        text-align: right;\n",
       "    }\n",
       "</style>\n",
       "<table border=\"1\" class=\"dataframe\">\n",
       "  <thead>\n",
       "    <tr style=\"text-align: right;\">\n",
       "      <th></th>\n",
       "      <th>0</th>\n",
       "      <th>1</th>\n",
       "      <th>2</th>\n",
       "    </tr>\n",
       "  </thead>\n",
       "  <tbody>\n",
       "    <tr>\n",
       "      <th>0</th>\n",
       "      <td>Solution</td>\n",
       "      <td>Score</td>\n",
       "      <td>Size</td>\n",
       "    </tr>\n",
       "    <tr>\n",
       "      <th>1</th>\n",
       "      <td>[Family_Size, Is_Married, Age, Sex]</td>\n",
       "      <td>0.748093</td>\n",
       "      <td>4</td>\n",
       "    </tr>\n",
       "    <tr>\n",
       "      <th>2</th>\n",
       "      <td>[Pclass, Sex, Embarked]</td>\n",
       "      <td>0.76875</td>\n",
       "      <td>3</td>\n",
       "    </tr>\n",
       "    <tr>\n",
       "      <th>3</th>\n",
       "      <td>[Fare_cat, Alone]</td>\n",
       "      <td>0.599191</td>\n",
       "      <td>2</td>\n",
       "    </tr>\n",
       "  </tbody>\n",
       "</table>\n",
       "</div>"
      ],
      "text/plain": [
       "                                     0         1     2\n",
       "0                             Solution     Score  Size\n",
       "1  [Family_Size, Is_Married, Age, Sex]  0.748093     4\n",
       "2              [Pclass, Sex, Embarked]   0.76875     3\n",
       "3                    [Fare_cat, Alone]  0.599191     2"
      ]
     },
     "execution_count": 237,
     "metadata": {},
     "output_type": "execute_result"
    }
   ],
   "source": [
    "variables = [[\"Family_Size\", \"Is_Married\", \"Age\", \"Sex\"],[\"Pclass\", \"Sex\", \"Embarked\"],[\"Fare_cat\", \"Alone\"]]\n",
    "\n",
    "mostrar_datos(variables)"
   ]
  },
  {
   "cell_type": "markdown",
   "metadata": {},
   "source": [
    "Esta celda de abajo es una primera prueba para ver cómo se tienen que mostrar los resultados:"
   ]
  },
  {
   "cell_type": "code",
   "execution_count": null,
   "metadata": {},
   "outputs": [],
   "source": []
  },
  {
   "cell_type": "code",
   "execution_count": null,
   "metadata": {},
   "outputs": [],
   "source": []
  }
 ],
 "metadata": {
  "kernelspec": {
   "display_name": "Python 3",
   "language": "python",
   "name": "python3"
  },
  "language_info": {
   "codemirror_mode": {
    "name": "ipython",
    "version": 3
   },
   "file_extension": ".py",
   "mimetype": "text/x-python",
   "name": "python",
   "nbconvert_exporter": "python",
   "pygments_lexer": "ipython3",
   "version": "3.6.9"
  }
 },
 "nbformat": 4,
 "nbformat_minor": 2
}
