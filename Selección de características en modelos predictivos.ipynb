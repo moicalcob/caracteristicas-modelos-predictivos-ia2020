{
 "cells": [
  {
   "cell_type": "markdown",
   "metadata": {},
   "source": [
    "# Selección de características en modelos predictivos"
   ]
  },
  {
   "cell_type": "markdown",
   "metadata": {},
   "source": [
    "Este proyecto es para IA de Moisés Calzado Cobo y Antonio Germán Márquez Trujillo"
   ]
  },
  {
   "cell_type": "code",
   "execution_count": 7,
   "metadata": {},
   "outputs": [],
   "source": [
    "import pandas as pandas;\n",
    "from sklearn.model_selection import cross_val_score;\n",
    "from sklearn import tree;\n",
    "from sklearn import preprocessing;\n",
    "import numpy as np;"
   ]
  },
  {
   "cell_type": "code",
   "execution_count": 8,
   "metadata": {},
   "outputs": [],
   "source": [
    "datos = pandas.read_csv(\"titanic.csv\")"
   ]
  },
  {
   "cell_type": "markdown",
   "metadata": {},
   "source": [
    "El primer paso para proceder con la selección de características es el que consiste en definir una función que nos permita evaluar los resultados obtenidos a la hora de predecir una característica dado un número de variables. Por lo tanto, el método nos queda de la siguiente forma:\n",
    "\n",
    "Tenemos una función que recibe las siguientes variables:\n",
    "<ul>\n",
    "    <li>Datos: El conjunto de datos a tratar</li>\n",
    "    <li>Variables: Conjunto de columnas con las que entrenar nuestro modelo de predicción</li>\n",
    "    <li>Objetivo: Columna a predecir</li>\n",
    "    <li>N_exp: Número de experimentos a llevar a cabo</li>\n",
    "    <li>Cv: COMPLETAR</li>\n",
    "</ul>\n",
    "\n",
    "Y nos devuelve la puntuación promedio obtenida a la hora de llevar a cabo los sucesivos experimentos sobre el conjunto de variables dado."
   ]
  },
  {
   "cell_type": "code",
   "execution_count": 9,
   "metadata": {},
   "outputs": [],
   "source": [
    "def evaluar_soluciones(datos, variables, objetivo, n_exp, cv):\n",
    "    data_frame = pandas.DataFrame(data=datos)\n",
    "    X = data_frame[variables]\n",
    "    y = data_frame[objetivo]\n",
    "    clf = tree.DecisionTreeClassifier()\n",
    "    \n",
    "    scores = cross_val_score(clf, X, y, cv=cv, scoring=\"balanced_accuracy\")\n",
    "    \n",
    "    for i in range(n_exp-1):\n",
    "        new_scores = cross_val_score(clf, X, y, cv=cv, scoring=\"balanced_accuracy\") \n",
    "        scores = scores + new_scores\n",
    "    \n",
    "    scores = scores/n_exp\n",
    "    return np.mean(scores)"
   ]
  },
  {
   "cell_type": "markdown",
   "metadata": {},
   "source": [
    "Con la función mostrar_datos(variables) que implementamos a continuación, lo que queremos hacer es mostrar para cada conjunto de variables evaluado sus correspondientes resultados. De esta forma, lo que recibe es un array que contiene un array de variables en cada posición y el objetivo que no es mas que la variable que queremos priorizar:"
   ]
  },
  {
   "cell_type": "code",
   "execution_count": 10,
   "metadata": {},
   "outputs": [],
   "source": [
    "def mostrar_datos(variables, objetivo):\n",
    "    resultados = []\n",
    "\n",
    "    for i in range(len(variables)):\n",
    "        new_resultado = evaluar_soluciones(datos, variables[i], objetivo, 15, 10)\n",
    "        resultados.append(new_resultado)\n",
    "\n",
    "    datos_tabla = [['Solution', 'Score', 'Size']]\n",
    "\n",
    "    for i in range(len(variables)):\n",
    "        datos_tabla = datos_tabla +[[variables[i],resultados[i],len(variables[i])]]\n",
    "        \n",
    "    return  pandas.DataFrame(datos_tabla)"
   ]
  },
  {
   "cell_type": "markdown",
   "metadata": {},
   "source": [
    "Esta celda de abajo es una primera prueba para ver cómo se tienen que mostrar los resultados:"
   ]
  },
  {
   "cell_type": "code",
   "execution_count": 11,
   "metadata": {},
   "outputs": [
    {
     "data": {
      "text/html": [
       "<div>\n",
       "<style scoped>\n",
       "    .dataframe tbody tr th:only-of-type {\n",
       "        vertical-align: middle;\n",
       "    }\n",
       "\n",
       "    .dataframe tbody tr th {\n",
       "        vertical-align: top;\n",
       "    }\n",
       "\n",
       "    .dataframe thead th {\n",
       "        text-align: right;\n",
       "    }\n",
       "</style>\n",
       "<table border=\"1\" class=\"dataframe\">\n",
       "  <thead>\n",
       "    <tr style=\"text-align: right;\">\n",
       "      <th></th>\n",
       "      <th>0</th>\n",
       "      <th>1</th>\n",
       "      <th>2</th>\n",
       "    </tr>\n",
       "  </thead>\n",
       "  <tbody>\n",
       "    <tr>\n",
       "      <th>0</th>\n",
       "      <td>Solution</td>\n",
       "      <td>Score</td>\n",
       "      <td>Size</td>\n",
       "    </tr>\n",
       "    <tr>\n",
       "      <th>1</th>\n",
       "      <td>[Family_Size, Is_Married, Age, Sex]</td>\n",
       "      <td>0.74681</td>\n",
       "      <td>4</td>\n",
       "    </tr>\n",
       "    <tr>\n",
       "      <th>2</th>\n",
       "      <td>[Pclass, Sex, Embarked]</td>\n",
       "      <td>0.76875</td>\n",
       "      <td>3</td>\n",
       "    </tr>\n",
       "    <tr>\n",
       "      <th>3</th>\n",
       "      <td>[Fare_cat, Alone]</td>\n",
       "      <td>0.599191</td>\n",
       "      <td>2</td>\n",
       "    </tr>\n",
       "  </tbody>\n",
       "</table>\n",
       "</div>"
      ],
      "text/plain": [
       "                                     0         1     2\n",
       "0                             Solution     Score  Size\n",
       "1  [Family_Size, Is_Married, Age, Sex]   0.74681     4\n",
       "2              [Pclass, Sex, Embarked]   0.76875     3\n",
       "3                    [Fare_cat, Alone]  0.599191     2"
      ]
     },
     "execution_count": 11,
     "metadata": {},
     "output_type": "execute_result"
    }
   ],
   "source": [
    "objetivo = [\"Survived\"]\n",
    "variables = [[\"Family_Size\", \"Is_Married\", \"Age\", \"Sex\"],[\"Pclass\", \"Sex\", \"Embarked\"],[\"Fare_cat\", \"Alone\"]]\n",
    "\n",
    "mostrar_datos(variables, objetivo)"
   ]
  },
  {
   "cell_type": "code",
   "execution_count": 139,
   "metadata": {},
   "outputs": [],
   "source": [
    "def SFS(datos, respuesta, d):\n",
    "    k = 0\n",
    "    solucionActual = []\n",
    "    colums = datos.columns\n",
    "    conjuntoOriginal = []\n",
    "    datos_tabla = [['Mejor Solución', 'Tamaño', 'Rendimiento']]\n",
    "    \n",
    "    for i in range(len(colums)):\n",
    "        conjuntoOriginal.append(colums[i])\n",
    "    \n",
    "    if(d == 0):\n",
    "        d = len(conjuntoOriginal)\n",
    "        \n",
    "    while(k<d):\n",
    "        solucionTemporal = []\n",
    "        variableResultados = [[]]\n",
    "        resultados = []\n",
    "        \n",
    "        for i in range (k, d):\n",
    "            solucionTemporal = [] + solucionActual\n",
    "            solucionTemporal.append(conjuntoOriginal[i])\n",
    "            print(solucionActual)\n",
    "            print(conjuntoOriginal[i])\n",
    "            print(solucionTemporal)\n",
    "            new_resultado = evaluar_soluciones(datos, solucionTemporal, respuesta, 15, 10)\n",
    "            resultados.append(new_resultado)\n",
    "            variableResultados.append(solucionTemporal)\n",
    "\n",
    "        mejorSolucionTemporal = []\n",
    "        mejorResultadoTemporal = 0\n",
    "        \n",
    "        for i in range (d-k):\n",
    "            if(resultados[i]>mejorResultadoTemporal):\n",
    "                mejorResultadoTemporal = resultados[i]\n",
    "                mejorSolucionTemporal = variableResultados[i]\n",
    "        \n",
    "        solucionActual = mejorSolucionTemporal\n",
    "        k = k+1\n",
    "        \n",
    "        datos_tabla = datos_tabla +[[solucionActual, len(solucionActual), mejorResultadoTemporal]]\n",
    "    \n",
    "    return pandas.DataFrame(datos_tabla)"
   ]
  },
  {
   "cell_type": "code",
   "execution_count": 138,
   "metadata": {},
   "outputs": [
    {
     "name": "stdout",
     "output_type": "stream",
     "text": [
      "[]\n",
      "Pclass\n",
      "['Pclass']\n",
      "[]\n",
      "Sex\n",
      "['Sex']\n",
      "[]\n",
      "Age\n",
      "['Age']\n",
      "['Pclass']\n",
      "Sex\n",
      "['Pclass', 'Sex']\n",
      "['Pclass']\n",
      "Age\n",
      "['Pclass', 'Age']\n",
      "['Pclass']\n",
      "Age\n",
      "['Pclass', 'Age']\n"
     ]
    },
    {
     "data": {
      "text/html": [
       "<div>\n",
       "<style scoped>\n",
       "    .dataframe tbody tr th:only-of-type {\n",
       "        vertical-align: middle;\n",
       "    }\n",
       "\n",
       "    .dataframe tbody tr th {\n",
       "        vertical-align: top;\n",
       "    }\n",
       "\n",
       "    .dataframe thead th {\n",
       "        text-align: right;\n",
       "    }\n",
       "</style>\n",
       "<table border=\"1\" class=\"dataframe\">\n",
       "  <thead>\n",
       "    <tr style=\"text-align: right;\">\n",
       "      <th></th>\n",
       "      <th>0</th>\n",
       "      <th>1</th>\n",
       "      <th>2</th>\n",
       "    </tr>\n",
       "  </thead>\n",
       "  <tbody>\n",
       "    <tr>\n",
       "      <th>0</th>\n",
       "      <td>Mejor Solución</td>\n",
       "      <td>Tamaño</td>\n",
       "      <td>Rendimiento</td>\n",
       "    </tr>\n",
       "    <tr>\n",
       "      <th>1</th>\n",
       "      <td>[Pclass]</td>\n",
       "      <td>1</td>\n",
       "      <td>0.7668</td>\n",
       "    </tr>\n",
       "    <tr>\n",
       "      <th>2</th>\n",
       "      <td>[Pclass]</td>\n",
       "      <td>1</td>\n",
       "      <td>0.734539</td>\n",
       "    </tr>\n",
       "    <tr>\n",
       "      <th>3</th>\n",
       "      <td>[Pclass]</td>\n",
       "      <td>1</td>\n",
       "      <td>0.642155</td>\n",
       "    </tr>\n",
       "  </tbody>\n",
       "</table>\n",
       "</div>"
      ],
      "text/plain": [
       "                0       1            2\n",
       "0  Mejor Solución  Tamaño  Rendimiento\n",
       "1        [Pclass]       1       0.7668\n",
       "2        [Pclass]       1     0.734539\n",
       "3        [Pclass]       1     0.642155"
      ]
     },
     "execution_count": 138,
     "metadata": {},
     "output_type": "execute_result"
    }
   ],
   "source": [
    "SFS(datos, \"Survived\", 3)"
   ]
  },
  {
   "cell_type": "code",
   "execution_count": null,
   "metadata": {},
   "outputs": [],
   "source": []
  },
  {
   "cell_type": "code",
   "execution_count": null,
   "metadata": {},
   "outputs": [],
   "source": []
  }
 ],
 "metadata": {
  "kernelspec": {
   "display_name": "Python 3",
   "language": "python",
   "name": "python3"
  },
  "language_info": {
   "codemirror_mode": {
    "name": "ipython",
    "version": 3
   },
   "file_extension": ".py",
   "mimetype": "text/x-python",
   "name": "python",
   "nbconvert_exporter": "python",
   "pygments_lexer": "ipython3",
   "version": "3.7.6"
  }
 },
 "nbformat": 4,
 "nbformat_minor": 2
}
