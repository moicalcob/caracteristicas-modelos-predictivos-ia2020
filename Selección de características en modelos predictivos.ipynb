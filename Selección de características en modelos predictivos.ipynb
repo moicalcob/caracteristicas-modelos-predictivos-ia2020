{
 "cells": [
  {
   "cell_type": "markdown",
   "metadata": {},
   "source": [
    "# Selección de características en modelos predictivos"
   ]
  },
  {
   "cell_type": "markdown",
   "metadata": {},
   "source": [
    "Este proyecto es para IA de Moisés Calzado Cobo y Germán Márquez Trujillo"
   ]
  },
  {
   "cell_type": "code",
   "execution_count": 66,
   "metadata": {},
   "outputs": [],
   "source": [
    "import pandas as pandas;\n",
    "from sklearn.model_selection import cross_val_score;\n",
    "from sklearn import tree;\n",
    "from sklearn import preprocessing;\n",
    "import numpy as np;"
   ]
  },
  {
   "cell_type": "code",
   "execution_count": 67,
   "metadata": {},
   "outputs": [],
   "source": [
    "datos = pandas.read_csv(\"titanic.csv\")"
   ]
  },
  {
   "cell_type": "code",
   "execution_count": 121,
   "metadata": {},
   "outputs": [],
   "source": [
    "def mostrar_datos(variables, resultado):\n",
    "    datos_tabla = {\n",
    "        \"solution\": [variables],\n",
    "        \"score\": resultado,\n",
    "        \"size\": [len(variables)]\n",
    "    }\n",
    "        \n",
    "    return pandas.DataFrame(datos_tabla)"
   ]
  },
  {
   "cell_type": "code",
   "execution_count": 122,
   "metadata": {},
   "outputs": [],
   "source": [
    "def evaluar_soluciones(datos, variables, objetivo, n_exp, cv):\n",
    "    data_frame = pandas.DataFrame(data=datos)\n",
    "    X = data_frame[variables]\n",
    "    y = data_frame[objetivo]\n",
    "    clf = tree.DecisionTreeClassifier()\n",
    "    \n",
    "    scores = cross_val_score(clf, X, y, cv=cv, scoring=\"balanced_accuracy\")\n",
    "    \n",
    "    for i in range(n_exp-1):\n",
    "        new_scores = cross_val_score(clf, X, y, cv=cv, scoring=\"balanced_accuracy\") \n",
    "        scores = scores + new_scores\n",
    "    \n",
    "    scores = scores/n_exp\n",
    "    return np.mean(scores)"
   ]
  },
  {
   "cell_type": "markdown",
   "metadata": {},
   "source": [
    "Esta celda de abajo es una primera prueba para ver cómo se tienen que mostrar los resultados, solo falta pasarla a función una vez tengamos claros los algoritmos implemetados"
   ]
  },
  {
   "cell_type": "code",
   "execution_count": 123,
   "metadata": {},
   "outputs": [
    {
     "data": {
      "text/html": [
       "<div>\n",
       "<style scoped>\n",
       "    .dataframe tbody tr th:only-of-type {\n",
       "        vertical-align: middle;\n",
       "    }\n",
       "\n",
       "    .dataframe tbody tr th {\n",
       "        vertical-align: top;\n",
       "    }\n",
       "\n",
       "    .dataframe thead th {\n",
       "        text-align: right;\n",
       "    }\n",
       "</style>\n",
       "<table border=\"1\" class=\"dataframe\">\n",
       "  <thead>\n",
       "    <tr style=\"text-align: right;\">\n",
       "      <th></th>\n",
       "      <th>solution</th>\n",
       "      <th>score</th>\n",
       "      <th>size</th>\n",
       "    </tr>\n",
       "  </thead>\n",
       "  <tbody>\n",
       "    <tr>\n",
       "      <th>0</th>\n",
       "      <td>[Family_Size, Is_Married, Age]</td>\n",
       "      <td>0.668915</td>\n",
       "      <td>3</td>\n",
       "    </tr>\n",
       "  </tbody>\n",
       "</table>\n",
       "</div>"
      ],
      "text/plain": [
       "                         solution     score  size\n",
       "0  [Family_Size, Is_Married, Age]  0.668915     3"
      ]
     },
     "execution_count": 123,
     "metadata": {},
     "output_type": "execute_result"
    }
   ],
   "source": [
    "variable = [\"Family_Size\", \"Is_Married\", \"Age\"]\n",
    "objetivo = \"Survived\"\n",
    "resultado = evaluar_soluciones(datos, variable, objetivo, 15, 10)\n",
    "mostrar_datos(variable, resultado)"
   ]
  },
  {
   "cell_type": "markdown",
   "metadata": {},
   "source": [
    "Pa mañana SFS"
   ]
  },
  {
   "cell_type": "code",
   "execution_count": 116,
   "metadata": {},
   "outputs": [
    {
     "data": {
      "text/html": [
       "<div>\n",
       "<style scoped>\n",
       "    .dataframe tbody tr th:only-of-type {\n",
       "        vertical-align: middle;\n",
       "    }\n",
       "\n",
       "    .dataframe tbody tr th {\n",
       "        vertical-align: top;\n",
       "    }\n",
       "\n",
       "    .dataframe thead th {\n",
       "        text-align: right;\n",
       "    }\n",
       "</style>\n",
       "<table border=\"1\" class=\"dataframe\">\n",
       "  <thead>\n",
       "    <tr style=\"text-align: right;\">\n",
       "      <th></th>\n",
       "      <th>solution</th>\n",
       "      <th>score</th>\n",
       "      <th>size</th>\n",
       "    </tr>\n",
       "  </thead>\n",
       "  <tbody>\n",
       "    <tr>\n",
       "      <th>0</th>\n",
       "      <td>[Fare_cat, Alone, Fare]</td>\n",
       "      <td>2.084485</td>\n",
       "      <td>3</td>\n",
       "    </tr>\n",
       "  </tbody>\n",
       "</table>\n",
       "</div>"
      ],
      "text/plain": [
       "                  solution     score  size\n",
       "0  [Fare_cat, Alone, Fare]  2.084485     3"
      ]
     },
     "execution_count": 116,
     "metadata": {},
     "output_type": "execute_result"
    }
   ],
   "source": []
  },
  {
   "cell_type": "code",
   "execution_count": null,
   "metadata": {},
   "outputs": [],
   "source": []
  }
 ],
 "metadata": {
  "kernelspec": {
   "display_name": "Python 3",
   "language": "python",
   "name": "python3"
  },
  "language_info": {
   "codemirror_mode": {
    "name": "ipython",
    "version": 3
   },
   "file_extension": ".py",
   "mimetype": "text/x-python",
   "name": "python",
   "nbconvert_exporter": "python",
   "pygments_lexer": "ipython3",
   "version": "3.7.6"
  }
 },
 "nbformat": 4,
 "nbformat_minor": 2
}
